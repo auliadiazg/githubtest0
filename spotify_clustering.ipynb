{
 "cells": [
  {
   "cell_type": "code",
   "execution_count": 75,
   "metadata": {},
   "outputs": [],
   "source": [
    "import streamlit as st\n",
    "import pandas as pd\n",
    "import numpy as np\n",
    "from sklearn.cluster import KMeans\n",
    "from sklearn.decomposition import PCA\n",
    "import plotly.express as px\n",
    "import base64\n",
    "from requests import post, get\n",
    "import json\n",
    "import csv\n",
    "from sklearn import preprocessing"
   ]
  },
  {
   "cell_type": "code",
   "execution_count": 76,
   "metadata": {},
   "outputs": [],
   "source": [
    "client_id = 'e8b793ed9c9b4b87b4fbe739c978a568' ##ganti variabel dengan client_id milik anda\n",
    "client_secret = '5caf70cdb38d4281b8b4398866c0c4b9' ##ganti variabel dengan client_secret milik anda\n",
    "playlistId = '1dtCMTYzAOzwKXqklxPJNS'\n",
    "\n",
    "## 37i9dQZF1DXbrUpGvoi3TS - 1(similar sad songs)\n",
    "## 1dtCMTYzAOzwKXqklxPJNS - 2(old songs, rock, rap)\n",
    "## 0IN7IWKmIfwlEysGyWUuRg - 3(mix of modern electronic, pop, and rock)\n",
    "\n",
    "dataset = []\n",
    "dataset2 = []\n",
    "dataset3 = []"
   ]
  },
  {
   "cell_type": "code",
   "execution_count": 14,
   "metadata": {},
   "outputs": [],
   "source": [
    "def getToken():\n",
    "    # gabungkan client_id dan client_secret\n",
    "    auth_string = client_id + ':' + client_secret\n",
    "\n",
    "    # encode ke base64\n",
    "    auth_b64 = base64.b64encode(auth_string.encode('utf-8'))\n",
    "\n",
    "    # url untuk mengambil token\n",
    "    url = 'https://accounts.spotify.com/api/token'\n",
    "\n",
    "    # header untuk mengambil token - sesuai dengan guide dari spotify\n",
    "    headers = {\n",
    "        'Authorization': 'Basic ' + auth_b64.decode('utf-8'),\n",
    "        'Content-Type': 'application/x-www-form-urlencoded'\n",
    "    }\n",
    "\n",
    "    # data untuk mengambil token - sesuai dengan guide dari spotify\n",
    "    data = {'grant_type': 'client_credentials'}\n",
    "\n",
    "    # kirim request POST ke spotify\n",
    "    result = post(url, headers=headers, data=data)\n",
    "\n",
    "    # parse response ke json\n",
    "    json_result = json.loads(result.content)\n",
    "    token = json_result['access_token']\n",
    "\n",
    "    # ambil token untuk akses API\n",
    "    return token\n",
    "\n",
    "## panggil fungsi getToken() dibawah ini"
   ]
  },
  {
   "cell_type": "code",
   "execution_count": 15,
   "metadata": {},
   "outputs": [],
   "source": [
    "## pengambilan token untuk otorisasi API\n",
    "def getAuthHeader(token):\n",
    "    return {'Authorization': 'Bearer ' + token}"
   ]
  },
  {
   "cell_type": "code",
   "execution_count": 77,
   "metadata": {},
   "outputs": [],
   "source": [
    "## pengambilan audio features dari track (lagu)\n",
    "def getAudioFeatures(token, trackId):\n",
    "    # endpoint untuk mendapatkan audio features\n",
    "    url = f'https://api.spotify.com/v1/audio-features/{trackId}'\n",
    "    headers = getAuthHeader(token)\n",
    "    result = get(url, headers=headers)  # kirim request GET ke Spotify\n",
    "    json_result = json.loads(result.content)  # parse response ke JSON\n",
    "\n",
    "    # Periksa apakah data tersedia\n",
    "    if json_result and 'danceability' in json_result:\n",
    "        audio_features_temp = [\n",
    "            json_result.get('danceability', 0),\n",
    "            json_result.get('energy', 0),\n",
    "            json_result.get('key', 0),\n",
    "            json_result.get('loudness', 0),\n",
    "            json_result.get('mode', 0),\n",
    "            json_result.get('speechiness', 0),\n",
    "            json_result.get('acousticness', 0),\n",
    "            json_result.get('instrumentalness', 0),\n",
    "            json_result.get('liveness', 0),\n",
    "            json_result.get('valence', 0),\n",
    "            json_result.get('tempo', 0),\n",
    "        ]\n",
    "    else:\n",
    "        # Jika data tidak ditemukan, isi dengan nilai default (misalnya 0)\n",
    "        audio_features_temp = [0] * 11\n",
    "\n",
    "    dataset2.append(audio_features_temp)"
   ]
  },
  {
   "cell_type": "code",
   "execution_count": 78,
   "metadata": {},
   "outputs": [
    {
     "name": "stdout",
     "output_type": "stream",
     "text": [
      "access token : BQAcv5LNeTMGPfSzq5fCYUL5IflcSBj2kFRIc2v9ZqhsFlHmtV2XLlxrD7N405m0xN8sXL9P_vv6SYT5M7q99j0cVz2KTs3vFoa7wHYO0i5tdi4SIBc\n",
      "[['5R8J6WCnV1E2lDJgVoaA4P', b'Threats', b'Jean Grae', 35, 246293, 2008, 0, 0, 0, 0, 0, 0, 0, 0, 0, 0, 0], ['5ex7brQNeKhyh6wjQoMDr0', b\"Queen's Philosophy\", b'Sa-Roc', 10, 193750, 2013, 0, 0, 0, 0, 0, 0, 0, 0, 0, 0, 0], ['0t7k99JA9z0KaMw1BoEpk8', b'9th vs. Thought', b'Black Thought', 0, 167741, 2018, 0, 0, 0, 0, 0, 0, 0, 0, 0, 0, 0], ['1LM6EReMkAxuDXDF26ekl2', b'Get By', b'Talib Kweli', 52, 227426, 2002, 0, 0, 0, 0, 0, 0, 0, 0, 0, 0, 0], ['5DWbvNiVrH2u0Si9e21ZjW', b'We Comin', b'Sa-Roc', 3, 209655, 2015, 0, 0, 0, 0, 0, 0, 0, 0, 0, 0, 0], ['0AeXtgRernMx6BDInIxtm8', b'Freedom Form Flowing', b'Gift Of Gab', 38, 272860, 2018, 0, 0, 0, 0, 0, 0, 0, 0, 0, 0, 0], ['5wkW9SLgv1DCO3Ll6WGjNg', b'Hood Supreme', b'Sa-Roc', 11, 216521, 2015, 0, 0, 0, 0, 0, 0, 0, 0, 0, 0, 0], ['1DaqUrqQOam8bCbzBUdqao', b'Maximum Frequency', b'Sa-Roc', 10, 228000, 2014, 0, 0, 0, 0, 0, 0, 0, 0, 0, 0, 0], ['0sztU8yO2eSFM7PCAeKdAT', b'Never Been In Love', b'Talib Kweli', 37, 300653, 2004, 0, 0, 0, 0, 0, 0, 0, 0, 0, 0, 0], ['4YoLbz1TKv8HQh2lRzpjiA', b'Eye of the Phoenix', b'Sa-Roc', 0, 124450, 2016, 0, 0, 0, 0, 0, 0, 0, 0, 0, 0, 0], ['1mm2MFkTsYv5Cd0OkfEKKS', b'Ms. Hill', b'Talib Kweli', 0, 224280, 2005, 0, 0, 0, 0, 0, 0, 0, 0, 0, 0, 0], ['72gByp7oLONJBOg0YntwTZ', b'End of the World', b'Sa-Roc', 7, 278382, 2015, 0, 0, 0, 0, 0, 0, 0, 0, 0, 0, 0], ['1UAhEIfzcm8hp9TXdbMCtz', b'NSFW (Not Safe For Weak Rappers)', b'Sa-Roc', 0, 226956, 2016, 0, 0, 0, 0, 0, 0, 0, 0, 0, 0, 0], ['2ybbKsBCWsq0f9dgbIIxon', b'Legendary', b'Sa-Roc', 1, 186734, 2014, 0, 0, 0, 0, 0, 0, 0, 0, 0, 0, 0], ['3NZzsmrtxfJd8nJBImXhRr', b'The Moors of Alhambra', b'Sa-Roc', 3, 149138, 2013, 0, 0, 0, 0, 0, 0, 0, 0, 0, 0, 0], ['0QTGhJ1LKgSj2PQLslXLzg', b\"Lilith's Psalm\", b'Sa-Roc', 11, 187428, 2015, 0, 0, 0, 0, 0, 0, 0, 0, 0, 0, 0], ['2BzQBXEmNFP6YTLgr1mRd2', b'MetaMorpheus', b'Sa-Roc', 0, 222469, 2016, 0, 0, 0, 0, 0, 0, 0, 0, 0, 0, 0], ['2TA0vUqYBjLuUIcgZzYL2v', b'WWII (Word War II)', b'Sa-Roc', 0, 128780, 2016, 0, 0, 0, 0, 0, 0, 0, 0, 0, 0, 0], ['5oqSr3rehtGgZyDh0LCSA7', b'Gotta Get Mine', b'MC Breed', 46, 264760, 1993, 0, 0, 0, 0, 0, 0, 0, 0, 0, 0, 0], ['1HSGn0KVpyv9H6l2KRwmAI', b'Battle Hymn', b'Vinnie Paz', 37, 387240, 2012, 0, 0, 0, 0, 0, 0, 0, 0, 0, 0, 0], ['01Xbm079iYopmVs8ZMqYGR', b'Pay Your Dues', b'Apathy', 18, 218826, 2016, 0, 0, 0, 0, 0, 0, 0, 0, 0, 0, 0], ['4gps46WZXlN1Z9EbdU4VQJ', b'Kindness For Weakness', b'Dilated Peoples', 32, 249280, 2006, 0, 0, 0, 0, 0, 0, 0, 0, 0, 0, 0], ['0aXb3G2Tjedb8FyErfwNXn', b'Equality', b'Afu-Ra', 0, 277320, 2000, 0, 0, 0, 0, 0, 0, 0, 0, 0, 0, 0], ['3QXackOVhioop7C1VaaSp7', b'Nothing but Strangeness (feat. Looptroop Rockers & Hilltop Hoods)', b'CunninLynguists', 35, 198120, 2009, 0, 0, 0, 0, 0, 0, 0, 0, 0, 0, 0], ['7x2zy4YgLY731TKaDFFeuj', b'When It Rains (feat. Aloe Blacc)', b'Dag Savage', 36, 176605, 2014, 0, 0, 0, 0, 0, 0, 0, 0, 0, 0, 0], ['4Nrg8EG7wWTiTOumtpw8gk', b'Let The Drummer Kick', b'Citizen Cope', 53, 257093, 2002, 0, 0, 0, 0, 0, 0, 0, 0, 0, 0, 0], ['5Wpy3gCoY3tQJxAaXWDWy7', b'Late For The Sky feat. Slug & Aesop Rock', b'Evidence', 0, 337560, 2011, 0, 0, 0, 0, 0, 0, 0, 0, 0, 0, 0], ['63BokRfXSQhEU6Qi2dSJpZ', b'Mind Playing Tricks on Me', b'Geto Boys', 62, 308733, 1991, 0, 0, 0, 0, 0, 0, 0, 0, 0, 0, 0], ['0fQ4aYENEakPclOlAyFtAX', b'Oh My', b'Sweatshop Union', 31, 235613, 2008, 0, 0, 0, 0, 0, 0, 0, 0, 0, 0, 0], ['6bO0RKtbyVtaKcNwvX8VUt', b'Definition of a Rap Flow (Albee 3000)', b'R.A. The Rugged Man', 0, 209280, 2013, 0, 0, 0, 0, 0, 0, 0, 0, 0, 0, 0], ['2yfK4aneEYgrXSEUWhrVYQ', b'Suicide', b'Jedi Mind Tricks', 29, 232840, 2006, 0, 0, 0, 0, 0, 0, 0, 0, 0, 0, 0], ['3qDpYCA6FoVvODVaZWScXO', b'Point of No Return', b'Immortal Technique', 0, 241826, 2003, 0, 0, 0, 0, 0, 0, 0, 0, 0, 0, 0], ['0fzo46p4NjXy6DGWmgdAtX', b'Guide You Through Shadows (feat. Ra Scion & Substantial)', b'CunninLynguists', 19, 275454, 2014, 0, 0, 0, 0, 0, 0, 0, 0, 0, 0, 0], ['3kPWpLBQDkzpKKbwOcjn1e', b'Fraudulent Cloth', b'Jedi Mind Tricks', 37, 251307, 2015, 0, 0, 0, 0, 0, 0, 0, 0, 0, 0, 0], ['3jmHcu9v3FFRgtztbEejgk', b'Children Sing', b'PaceWon & Mr. Green', 30, 306893, 2008, 0, 0, 0, 0, 0, 0, 0, 0, 0, 0, 0], ['32cQeY533XTAc4L6fzcIgG', b'Enemies With Benefits F. Tonedeff', b'CunninLynguists', 26, 277205, 2011, 0, 0, 0, 0, 0, 0, 0, 0, 0, 0, 0], ['6o7Ox5vC4eGaO3WBv77NQc', b'Freedom of Speech', b'Immortal Technique', 0, 187000, 2003, 0, 0, 0, 0, 0, 0, 0, 0, 0, 0, 0], ['2CpP9fn0s3EQN4ErGEF7UX', b'Beyond the Sun (feat. J Live)', b'CunninLynguists', 35, 161193, 2014, 0, 0, 0, 0, 0, 0, 0, 0, 0, 0, 0], ['0lD1Olt2y5u9d5zUUERxRC', b'Pour Me Another', b'Atmosphere', 0, 289746, 2005, 0, 0, 0, 0, 0, 0, 0, 0, 0, 0, 0], ['2ulWTEGFSGdV85pweEluAS', b'Razorblade Salvation', b'Jedi Mind Tricks', 38, 261093, 2006, 0, 0, 0, 0, 0, 0, 0, 0, 0, 0, 0], ['6qfna7A7WvUwyNoqVwbhnc', b\"Love Ain't (f. Tonedeff) [Deluxe Edition]\", b'CunninLynguists', 25, 241533, 2010, 0, 0, 0, 0, 0, 0, 0, 0, 0, 0, 0], ['1f58xau99Rdn0hhcJTwRhz', b'Uncommon Valor: A Vietnam Story', b'Jedi Mind Tricks', 44, 242200, 2006, 0, 0, 0, 0, 0, 0, 0, 0, 0, 0, 0], ['7eDrxsh5PQnsqiVNZxN9Z6', b'2020', b'Sol', 31, 224400, 2012, 0, 0, 0, 0, 0, 0, 0, 0, 0, 0, 0], ['6knXhIPwVrtT639MX856YN', b'Melancholy Hopeful', b'Marcus D', 0, 250266, 2012, 0, 0, 0, 0, 0, 0, 0, 0, 0, 0, 0], ['6KsqFiw7IDFQM7QHBORGlN', b'Stars Shine Brightest (In The Darkest Of Night) F. Rick Warren', b'CunninLynguists', 27, 242484, 2011, 0, 0, 0, 0, 0, 0, 0, 0, 0, 0, 0], ['0dcMqjeDpwqB2xhzMsld0p', b'El Ma\\xc3\\xb1ana', b'Gorillaz', 62, 235360, 2005, 0, 0, 0, 0, 0, 0, 0, 0, 0, 0, 0], ['57Xjny5yNzAcsxnusKmAfA', b'Reptilia', b'The Strokes', 77, 219826, 2003, 0, 0, 0, 0, 0, 0, 0, 0, 0, 0, 0], ['2bfGNzdiRa1jXZRdfssSzR', b'Dirty Harry', b'Gorillaz', 70, 230426, 2005, 0, 0, 0, 0, 0, 0, 0, 0, 0, 0, 0], ['3oQqC98i1EhNRcXqIMoWQD', b'Soul Of Freedom feat. Cise Starr', b'Uyama Hiroto', 0, 302333, 2014, 0, 0, 0, 0, 0, 0, 0, 0, 0, 0, 0], ['2QqAVlaV6Y45ebsXxfS5i8', b'Take Time', b'Awon', 27, 267906, 2014, 0, 0, 0, 0, 0, 0, 0, 0, 0, 0, 0], ['0w5PBGhJJBCXnGHIxTIZlD', b'When I Close My Eyes (feat. Tunji)', b'SoulChef', 0, 209706, 2010, 0, 0, 0, 0, 0, 0, 0, 0, 0, 0, 0], ['0BDXqHYDkL2dfwWKlWeoTr', b\"Say Somethin' (feat. Nieve, Noah King, Adub & Tunji)\", b'SoulChef', 0, 269986, 2010, 0, 0, 0, 0, 0, 0, 0, 0, 0, 0, 0], ['462T2Je5iJcUHIuvqYGgM9', b'Swell', b'Common Market', 25, 228728, 2008, 0, 0, 0, 0, 0, 0, 0, 0, 0, 0, 0], ['6vmPUsrVk873GWkJwygHKD', b'nagashi', b'Idealism', 0, 109948, 2017, 0, 0, 0, 0, 0, 0, 0, 0, 0, 0, 0], ['7IRTS6jZPmNBIizSiAOcQZ', b\"Boys' bop\", b'Birocratic', 0, 180000, 2017, 0, 0, 0, 0, 0, 0, 0, 0, 0, 0, 0], ['6bmJYo1KS2X2nzQrCGzdOe', b'Benzi Box (feat. CeeLo Green)', b'DANGERDOOM', 0, 180093, 2005, 0, 0, 0, 0, 0, 0, 0, 0, 0, 0, 0], ['5kY75d5UPbz9xa3inTmiC8', b\"Comin' Up (feat. Mistah F.A.B.)\", b'The Grouch & Eligh', 17, 244506, 2009, 0, 0, 0, 0, 0, 0, 0, 0, 0, 0, 0], ['3dPQuX8Gs42Y7b454ybpMR', b'Seven Nation Army', b'The White Stripes', 3, 231733, 2003, 0, 0, 0, 0, 0, 0, 0, 0, 0, 0, 0], ['4M88Wd7Aps5LGRWMOC7gSH', b'Some Kind of Nature (feat. Lou Reed)', b'Gorillaz', 50, 179866, 2010, 0, 0, 0, 0, 0, 0, 0, 0, 0, 0, 0], ['1RKUoGiLEbcXN4GY4spQDx', b'Clint Eastwood', b'Gorillaz', 68, 340920, 2001, 0, 0, 0, 0, 0, 0, 0, 0, 0, 0, 0], ['4iG2gAwKXsOcijVaVXzRPW', b'Time to Pretend', b'MGMT', 73, 261000, 2007, 0, 0, 0, 0, 0, 0, 0, 0, 0, 0, 0], ['4j4pPKE3xAblPIbhxScC1j', b'Rawnald Gregory Erickson the Second', b'STRFKR', 59, 173693, 2008, 0, 0, 0, 0, 0, 0, 0, 0, 0, 0, 0], ['5KUNwkaNf8l5A9sXZhiCgI', b'Rapp Snitch Knishes feat. Mr. Fantastik', b'MF DOOM', 0, 172893, 2004, 0, 0, 0, 0, 0, 0, 0, 0, 0, 0, 0], ['6lrDckuosGpwEHtm1hHBcf', b'November Has Come', b'Gorillaz', 66, 165093, 2005, 0, 0, 0, 0, 0, 0, 0, 0, 0, 0, 0], ['5WmxGs0hBmoo9bcGlY0twV', b'Beautiful Girl', b'CunninLynguists', 34, 204706, 2006, 0, 0, 0, 0, 0, 0, 0, 0, 0, 0, 0], ['5NcQLidkHKJHjzhhxPkbx3', b'Black Lake', b'Emancipator', 0, 218573, 2010, 0, 0, 0, 0, 0, 0, 0, 0, 0, 0, 0], ['1sE6ODOwN9yI7PO0xCpSPD', b'THE POSSE', b'The Grouch', 8, 254678, 2014, 0, 0, 0, 0, 0, 0, 0, 0, 0, 0, 0], ['4dLM3Batl5GAUQyZdCbVFo', b'Anotha (BBQ)', b'People Under The Stairs', 0, 266946, 2008, 0, 0, 0, 0, 0, 0, 0, 0, 0, 0, 0], ['0U6Rolz9wr2tAkVPKUKNU5', b'Before and After', b'Lyrics Born', 17, 276213, 2003, 0, 0, 0, 0, 0, 0, 0, 0, 0, 0, 0], ['3njlXiLTQyFXQwXNB9qvRb', b'So Cold', b'Collective Efforts', 5, 197920, 2010, 0, 0, 0, 0, 0, 0, 0, 0, 0, 0, 0], ['5roUoEWuTQ8Z8meO0A1Pcf', b'Pictures On My Wall', b'People Under The Stairs', 23, 276733, 2014, 0, 0, 0, 0, 0, 0, 0, 0, 0, 0, 0], ['10KM0tUxrvaCQV25hq6dL8', b'The Travelers', b'Brother Ali', 0, 318133, 2009, 0, 0, 0, 0, 0, 0, 0, 0, 0, 0, 0], ['5kfBmqSGinIjj3dZsclSX0', b'Motion Movement', b'Blue Scholars', 21, 226946, 2004, 0, 0, 0, 0, 0, 0, 0, 0, 0, 0, 0], ['5my9fP5XJ2oo0YHT43pJYu', b'Antenna', b'Zion I', 20, 238973, 2009, 0, 0, 0, 0, 0, 0, 0, 0, 0, 0, 0], ['3koCCeSaVUyrRo3N2gHrd8', b\"Let's Groove\", b'Earth, Wind & Fire', 74, 339320, 1981, 0, 0, 0, 0, 0, 0, 0, 0, 0, 0, 0], ['7tqhbajSfrz2F7E1Z75ASX', b\"Ain't No Mountain High Enough\", b'Marvin Gaye', 0, 151666, 1967, 0, 0, 0, 0, 0, 0, 0, 0, 0, 0, 0], ['1k1Bqnv2R0uJXQN4u6LKYt', b\"Ain't No Sunshine\", b'Bill Withers', 81, 125093, 1971, 0, 0, 0, 0, 0, 0, 0, 0, 0, 0, 0], ['4CoGNqLap7UGU5Q3VdKug0', b\"Ain't Too Proud To Beg\", b'The Temptations', 62, 156173, 1966, 0, 0, 0, 0, 0, 0, 0, 0, 0, 0, 0], ['7qHqlaHTawgXSvT0G1wM4q', b'Close to Home', b'Sweatshop Union', 11, 293666, 2008, 0, 0, 0, 0, 0, 0, 0, 0, 0, 0, 0], ['0uMn8WKu3qtQLaUyal1bsz', b'Mastermind', b'Deltron 3030', 48, 214306, 2000, 0, 0, 0, 0, 0, 0, 0, 0, 0, 0, 0], ['4n3U09x3m3d1pNz0Sj7WNV', b'Anything Is Everything', b'The Dynospectrum', 26, 293200, 1998, 0, 0, 0, 0, 0, 0, 0, 0, 0, 0, 0], ['2WFggVC84b18ZkJTNgFnGP', b'believe feat. Cise Starr', b'Kenichiro Nishihara', 0, 263960, 2015, 0, 0, 0, 0, 0, 0, 0, 0, 0, 0, 0], ['3Zl9FktbaF6nTI0cGpKYwr', b'Sunny Side Of Hell', b'Grieves', 0, 237106, 2011, 0, 0, 0, 0, 0, 0, 0, 0, 0, 0, 0], ['3ut5Nkw2Hbv76fpzmujOFp', b'Everything', b'Murs', 32, 214026, 2008, 0, 0, 0, 0, 0, 0, 0, 0, 0, 0, 0], ['0pb0Y7tsJAXiPMYXatq4Og', b'On The Rocks', b'Grieves', 0, 185373, 2011, 0, 0, 0, 0, 0, 0, 0, 0, 0, 0, 0], ['2sKRFpIJi1x1px6mAKewIs', b'Slow Cure', b'Common Market', 14, 247405, 2008, 0, 0, 0, 0, 0, 0, 0, 0, 0, 0, 0], ['3F2nXlS9FIJiaHqna12k1U', b'This Far', b'Collective Efforts', 20, 305853, 2010, 0, 0, 0, 0, 0, 0, 0, 0, 0, 0, 0], ['29jmo4Awj9WdrcQ1AK8ghv', b'Walking Away', b'Brother Ali', 0, 238920, 2007, 0, 0, 0, 0, 0, 0, 0, 0, 0, 0, 0], ['3QOmgrh6ElgcPKwOAnbwgu', b'The Best Day', b'Atmosphere', 0, 216893, 2010, 0, 0, 0, 0, 0, 0, 0, 0, 0, 0, 0], ['76QX42psCJ7qa37hGVhMjS', b'Southside Revival', b'Blue Scholars', 17, 296893, 2006, 0, 0, 0, 0, 0, 0, 0, 0, 0, 0, 0], ['51bB0OmoieIGoYZNT3RNyh', b\"The Humans' race\", b'Sweatshop Union', 19, 254146, 2006, 0, 0, 0, 0, 0, 0, 0, 0, 0, 0, 0], ['7JC0gbtbTRSk1YXw8pPex6', b'Mic Like a Memory [Deluxe Edition] (feat. Kory Calico)', b'CunninLynguists', 1, 276100, 2001, 0, 0, 0, 0, 0, 0, 0, 0, 0, 0, 0], ['7cHRys0Lhk9642dLaPUMkm', b'Soon It Will Be Cold Enough to Build Fires', b'Emancipator', 0, 174533, 2008, 0, 0, 0, 0, 0, 0, 0, 0, 0, 0, 0], ['5Kol7a51obXwqkwAhp0DkH', b'Way of the Light', b'Gift Of Gab', 24, 262213, 2004, 0, 0, 0, 0, 0, 0, 0, 0, 0, 0, 0], ['47xpFbYu56SslEu3cL4jFY', b'In the City (feat. Zumbi of Zion I)', b'CunninLynguists', 21, 219752, 2014, 0, 0, 0, 0, 0, 0, 0, 0, 0, 0, 0], ['0H1OureTxinowEaDHuR3pp', b'Fall From Paradise', b'Classified', 12, 252720, 2007, 0, 0, 0, 0, 0, 0, 0, 0, 0, 0, 0], ['2D0JAGN3FR4EpkbjkTIEfp', b'Purple Kush (feat. Sunspot Jonz)', b'Living Legends', 32, 155066, 2006, 0, 0, 0, 0, 0, 0, 0, 0, 0, 0, 0], ['7B2zU9I4GLAovGueLPsUJU', b'50 Thousand Deep', b'Blue Scholars', 22, 307120, 2007, 0, 0, 0, 0, 0, 0, 0, 0, 0, 0, 0], ['5KHebcXYSD3vG5Bl2YM9go', b'Trinity', b'Common Market', 9, 286106, 2006, 0, 0, 0, 0, 0, 0, 0, 0, 0, 0, 0], ['7kH21UpmSW9vWDqxAa8oVP', b'Moving at the Speed of Life (feat. Aesop & Slug)', b'Living Legends', 37, 221520, 2006, 0, 0, 0, 0, 0, 0, 0, 0, 0, 0, 0]]\n"
     ]
    }
   ],
   "source": [
    "# pengambilan track (lagu) dari playlist\n",
    "def getPlaylistItems(token, playlistId):\n",
    "    # endpoint untuk akses playlist\n",
    "    url = f'https://api.spotify.com/v1/playlists/{playlistId}/tracks'\n",
    "    limit = '&limit=100'  # batas maksimal track yang diambil\n",
    "    market = '?market=ID'  # negara yang tempat aplikasi diakses\n",
    "    # format data dari track yang diambil\n",
    "    fields = '&fields=items%28track%28id%2Cname%2Cartists%2Cpopularity%2C+duration_ms%2C+album%28release_date%29%29%29'\n",
    "    url = url+market+fields+limit  # gabungkan semua parameter\n",
    "    # ambil token untuk otorisasi, gunakan sebagai header\n",
    "    headers = getAuthHeader(token)\n",
    "    result = get(url, headers=headers)  # kirim request GET ke spotify\n",
    "    json_result = json.loads(result.content)  # parse response ke json\n",
    "    # print(json_result)\n",
    "\n",
    "    # ambil data yang diperlukan dari response\n",
    "    for i in range(len(json_result['items'])):\n",
    "        playlist_items_temp = []\n",
    "        playlist_items_temp.append(json_result['items'][i]['track']['id'])\n",
    "        playlist_items_temp.append(\n",
    "            json_result['items'][i]['track']['name'].encode('utf-8'))\n",
    "        playlist_items_temp.append(\n",
    "            json_result['items'][i]['track']['artists'][0]['name'].encode('utf-8'))\n",
    "        playlist_items_temp.append(\n",
    "            json_result['items'][i]['track']['popularity'])\n",
    "        playlist_items_temp.append(\n",
    "            json_result['items'][i]['track']['duration_ms'])\n",
    "        playlist_items_temp.append(\n",
    "            int(json_result['items'][i]['track']['album']['release_date'][0:4]))\n",
    "        dataset.append(playlist_items_temp)\n",
    "\n",
    "    # ambil audio features dari semua track di dalam playlist\n",
    "    for i in range(len(dataset)):\n",
    "        getAudioFeatures(token, dataset[i][0])\n",
    "\n",
    "    # gabungkan dataset dan dataset2\n",
    "    for i in range(len(dataset)):\n",
    "        dataset3.append(dataset[i]+dataset2[i])\n",
    "\n",
    "    print(dataset3)\n",
    "    # convert dataset3 into csv\n",
    "    with open('dataset.csv', 'w', newline='') as file:\n",
    "        writer = csv.writer(file)\n",
    "        writer.writerow([\"id\", \"name\", \"artist\", \"popularity\", \"duration_ms\", \"year\", \"danceability\", \"energy\", \"key\", \"loudness\", \"mode\",\n",
    "                         \"speechiness\", \"acousticness\", \"instrumentalness\", \"liveness\", \"valence\", \"tempo\"])\n",
    "        writer.writerows(dataset3)\n",
    "\n",
    "token = getToken()\n",
    "print('access token : '+token)\n",
    "getPlaylistItems(token, playlistId)"
   ]
  },
  {
   "cell_type": "code",
   "execution_count": 79,
   "metadata": {},
   "outputs": [
    {
     "data": {
      "text/html": [
       "<div>\n",
       "<style scoped>\n",
       "    .dataframe tbody tr th:only-of-type {\n",
       "        vertical-align: middle;\n",
       "    }\n",
       "\n",
       "    .dataframe tbody tr th {\n",
       "        vertical-align: top;\n",
       "    }\n",
       "\n",
       "    .dataframe thead th {\n",
       "        text-align: right;\n",
       "    }\n",
       "</style>\n",
       "<table border=\"1\" class=\"dataframe\">\n",
       "  <thead>\n",
       "    <tr style=\"text-align: right;\">\n",
       "      <th></th>\n",
       "      <th>id</th>\n",
       "      <th>name</th>\n",
       "      <th>artist</th>\n",
       "      <th>popularity</th>\n",
       "      <th>duration_ms</th>\n",
       "      <th>year</th>\n",
       "      <th>danceability</th>\n",
       "      <th>energy</th>\n",
       "      <th>key</th>\n",
       "      <th>loudness</th>\n",
       "      <th>mode</th>\n",
       "      <th>speechiness</th>\n",
       "      <th>acousticness</th>\n",
       "      <th>instrumentalness</th>\n",
       "      <th>liveness</th>\n",
       "      <th>valence</th>\n",
       "      <th>tempo</th>\n",
       "    </tr>\n",
       "  </thead>\n",
       "  <tbody>\n",
       "    <tr>\n",
       "      <th>0</th>\n",
       "      <td>5R8J6WCnV1E2lDJgVoaA4P</td>\n",
       "      <td>b'Threats'</td>\n",
       "      <td>b'Jean Grae'</td>\n",
       "      <td>35</td>\n",
       "      <td>246293</td>\n",
       "      <td>2008</td>\n",
       "      <td>0</td>\n",
       "      <td>0</td>\n",
       "      <td>0</td>\n",
       "      <td>0</td>\n",
       "      <td>0</td>\n",
       "      <td>0</td>\n",
       "      <td>0</td>\n",
       "      <td>0</td>\n",
       "      <td>0</td>\n",
       "      <td>0</td>\n",
       "      <td>0</td>\n",
       "    </tr>\n",
       "    <tr>\n",
       "      <th>1</th>\n",
       "      <td>5ex7brQNeKhyh6wjQoMDr0</td>\n",
       "      <td>b\"Queen's Philosophy\"</td>\n",
       "      <td>b'Sa-Roc'</td>\n",
       "      <td>10</td>\n",
       "      <td>193750</td>\n",
       "      <td>2013</td>\n",
       "      <td>0</td>\n",
       "      <td>0</td>\n",
       "      <td>0</td>\n",
       "      <td>0</td>\n",
       "      <td>0</td>\n",
       "      <td>0</td>\n",
       "      <td>0</td>\n",
       "      <td>0</td>\n",
       "      <td>0</td>\n",
       "      <td>0</td>\n",
       "      <td>0</td>\n",
       "    </tr>\n",
       "    <tr>\n",
       "      <th>2</th>\n",
       "      <td>0t7k99JA9z0KaMw1BoEpk8</td>\n",
       "      <td>b'9th vs. Thought'</td>\n",
       "      <td>b'Black Thought'</td>\n",
       "      <td>0</td>\n",
       "      <td>167741</td>\n",
       "      <td>2018</td>\n",
       "      <td>0</td>\n",
       "      <td>0</td>\n",
       "      <td>0</td>\n",
       "      <td>0</td>\n",
       "      <td>0</td>\n",
       "      <td>0</td>\n",
       "      <td>0</td>\n",
       "      <td>0</td>\n",
       "      <td>0</td>\n",
       "      <td>0</td>\n",
       "      <td>0</td>\n",
       "    </tr>\n",
       "    <tr>\n",
       "      <th>3</th>\n",
       "      <td>1LM6EReMkAxuDXDF26ekl2</td>\n",
       "      <td>b'Get By'</td>\n",
       "      <td>b'Talib Kweli'</td>\n",
       "      <td>52</td>\n",
       "      <td>227426</td>\n",
       "      <td>2002</td>\n",
       "      <td>0</td>\n",
       "      <td>0</td>\n",
       "      <td>0</td>\n",
       "      <td>0</td>\n",
       "      <td>0</td>\n",
       "      <td>0</td>\n",
       "      <td>0</td>\n",
       "      <td>0</td>\n",
       "      <td>0</td>\n",
       "      <td>0</td>\n",
       "      <td>0</td>\n",
       "    </tr>\n",
       "    <tr>\n",
       "      <th>4</th>\n",
       "      <td>5DWbvNiVrH2u0Si9e21ZjW</td>\n",
       "      <td>b'We Comin'</td>\n",
       "      <td>b'Sa-Roc'</td>\n",
       "      <td>3</td>\n",
       "      <td>209655</td>\n",
       "      <td>2015</td>\n",
       "      <td>0</td>\n",
       "      <td>0</td>\n",
       "      <td>0</td>\n",
       "      <td>0</td>\n",
       "      <td>0</td>\n",
       "      <td>0</td>\n",
       "      <td>0</td>\n",
       "      <td>0</td>\n",
       "      <td>0</td>\n",
       "      <td>0</td>\n",
       "      <td>0</td>\n",
       "    </tr>\n",
       "  </tbody>\n",
       "</table>\n",
       "</div>"
      ],
      "text/plain": [
       "                       id                   name            artist  \\\n",
       "0  5R8J6WCnV1E2lDJgVoaA4P             b'Threats'      b'Jean Grae'   \n",
       "1  5ex7brQNeKhyh6wjQoMDr0  b\"Queen's Philosophy\"         b'Sa-Roc'   \n",
       "2  0t7k99JA9z0KaMw1BoEpk8     b'9th vs. Thought'  b'Black Thought'   \n",
       "3  1LM6EReMkAxuDXDF26ekl2              b'Get By'    b'Talib Kweli'   \n",
       "4  5DWbvNiVrH2u0Si9e21ZjW            b'We Comin'         b'Sa-Roc'   \n",
       "\n",
       "   popularity  duration_ms  year  danceability  energy  key  loudness  mode  \\\n",
       "0          35       246293  2008             0       0    0         0     0   \n",
       "1          10       193750  2013             0       0    0         0     0   \n",
       "2           0       167741  2018             0       0    0         0     0   \n",
       "3          52       227426  2002             0       0    0         0     0   \n",
       "4           3       209655  2015             0       0    0         0     0   \n",
       "\n",
       "   speechiness  acousticness  instrumentalness  liveness  valence  tempo  \n",
       "0            0             0                 0         0        0      0  \n",
       "1            0             0                 0         0        0      0  \n",
       "2            0             0                 0         0        0      0  \n",
       "3            0             0                 0         0        0      0  \n",
       "4            0             0                 0         0        0      0  "
      ]
     },
     "execution_count": 79,
     "metadata": {},
     "output_type": "execute_result"
    }
   ],
   "source": [
    "import pandas as pd\n",
    "import numpy as np\n",
    "\n",
    "from sklearn.cluster import KMeans\n",
    "from sklearn.decomposition import PCA\n",
    "\n",
    "import plotly.express as px \n",
    "\n",
    "## muat dataset\n",
    "data = pd.read_csv('dataset.csv')\n",
    "data.head()"
   ]
  },
  {
   "cell_type": "code",
   "execution_count": 80,
   "metadata": {},
   "outputs": [
    {
     "data": {
      "text/html": [
       "<div>\n",
       "<style scoped>\n",
       "    .dataframe tbody tr th:only-of-type {\n",
       "        vertical-align: middle;\n",
       "    }\n",
       "\n",
       "    .dataframe tbody tr th {\n",
       "        vertical-align: top;\n",
       "    }\n",
       "\n",
       "    .dataframe thead th {\n",
       "        text-align: right;\n",
       "    }\n",
       "</style>\n",
       "<table border=\"1\" class=\"dataframe\">\n",
       "  <thead>\n",
       "    <tr style=\"text-align: right;\">\n",
       "      <th></th>\n",
       "      <th>id</th>\n",
       "      <th>name</th>\n",
       "      <th>artist</th>\n",
       "      <th>popularity</th>\n",
       "      <th>duration_ms</th>\n",
       "      <th>year</th>\n",
       "      <th>danceability</th>\n",
       "      <th>energy</th>\n",
       "      <th>key</th>\n",
       "      <th>loudness</th>\n",
       "      <th>mode</th>\n",
       "      <th>speechiness</th>\n",
       "      <th>acousticness</th>\n",
       "      <th>instrumentalness</th>\n",
       "      <th>liveness</th>\n",
       "      <th>valence</th>\n",
       "      <th>tempo</th>\n",
       "    </tr>\n",
       "  </thead>\n",
       "  <tbody>\n",
       "    <tr>\n",
       "      <th>0</th>\n",
       "      <td>5R8J6WCnV1E2lDJgVoaA4P</td>\n",
       "      <td>Threats</td>\n",
       "      <td>Jean Grae</td>\n",
       "      <td>35</td>\n",
       "      <td>246293</td>\n",
       "      <td>2008</td>\n",
       "      <td>0</td>\n",
       "      <td>0</td>\n",
       "      <td>0</td>\n",
       "      <td>0</td>\n",
       "      <td>0</td>\n",
       "      <td>0</td>\n",
       "      <td>0</td>\n",
       "      <td>0</td>\n",
       "      <td>0</td>\n",
       "      <td>0</td>\n",
       "      <td>0</td>\n",
       "    </tr>\n",
       "    <tr>\n",
       "      <th>1</th>\n",
       "      <td>5ex7brQNeKhyh6wjQoMDr0</td>\n",
       "      <td>Queen's Philosophy</td>\n",
       "      <td>Sa-Roc</td>\n",
       "      <td>10</td>\n",
       "      <td>193750</td>\n",
       "      <td>2013</td>\n",
       "      <td>0</td>\n",
       "      <td>0</td>\n",
       "      <td>0</td>\n",
       "      <td>0</td>\n",
       "      <td>0</td>\n",
       "      <td>0</td>\n",
       "      <td>0</td>\n",
       "      <td>0</td>\n",
       "      <td>0</td>\n",
       "      <td>0</td>\n",
       "      <td>0</td>\n",
       "    </tr>\n",
       "    <tr>\n",
       "      <th>2</th>\n",
       "      <td>0t7k99JA9z0KaMw1BoEpk8</td>\n",
       "      <td>9th vs. Thought</td>\n",
       "      <td>Black Thought</td>\n",
       "      <td>0</td>\n",
       "      <td>167741</td>\n",
       "      <td>2018</td>\n",
       "      <td>0</td>\n",
       "      <td>0</td>\n",
       "      <td>0</td>\n",
       "      <td>0</td>\n",
       "      <td>0</td>\n",
       "      <td>0</td>\n",
       "      <td>0</td>\n",
       "      <td>0</td>\n",
       "      <td>0</td>\n",
       "      <td>0</td>\n",
       "      <td>0</td>\n",
       "    </tr>\n",
       "    <tr>\n",
       "      <th>3</th>\n",
       "      <td>1LM6EReMkAxuDXDF26ekl2</td>\n",
       "      <td>Get By</td>\n",
       "      <td>Talib Kweli</td>\n",
       "      <td>52</td>\n",
       "      <td>227426</td>\n",
       "      <td>2002</td>\n",
       "      <td>0</td>\n",
       "      <td>0</td>\n",
       "      <td>0</td>\n",
       "      <td>0</td>\n",
       "      <td>0</td>\n",
       "      <td>0</td>\n",
       "      <td>0</td>\n",
       "      <td>0</td>\n",
       "      <td>0</td>\n",
       "      <td>0</td>\n",
       "      <td>0</td>\n",
       "    </tr>\n",
       "    <tr>\n",
       "      <th>4</th>\n",
       "      <td>5DWbvNiVrH2u0Si9e21ZjW</td>\n",
       "      <td>We Comin</td>\n",
       "      <td>Sa-Roc</td>\n",
       "      <td>3</td>\n",
       "      <td>209655</td>\n",
       "      <td>2015</td>\n",
       "      <td>0</td>\n",
       "      <td>0</td>\n",
       "      <td>0</td>\n",
       "      <td>0</td>\n",
       "      <td>0</td>\n",
       "      <td>0</td>\n",
       "      <td>0</td>\n",
       "      <td>0</td>\n",
       "      <td>0</td>\n",
       "      <td>0</td>\n",
       "      <td>0</td>\n",
       "    </tr>\n",
       "  </tbody>\n",
       "</table>\n",
       "</div>"
      ],
      "text/plain": [
       "                       id                name         artist  popularity  \\\n",
       "0  5R8J6WCnV1E2lDJgVoaA4P             Threats      Jean Grae          35   \n",
       "1  5ex7brQNeKhyh6wjQoMDr0  Queen's Philosophy         Sa-Roc          10   \n",
       "2  0t7k99JA9z0KaMw1BoEpk8     9th vs. Thought  Black Thought           0   \n",
       "3  1LM6EReMkAxuDXDF26ekl2              Get By    Talib Kweli          52   \n",
       "4  5DWbvNiVrH2u0Si9e21ZjW            We Comin         Sa-Roc           3   \n",
       "\n",
       "   duration_ms  year  danceability  energy  key  loudness  mode  speechiness  \\\n",
       "0       246293  2008             0       0    0         0     0            0   \n",
       "1       193750  2013             0       0    0         0     0            0   \n",
       "2       167741  2018             0       0    0         0     0            0   \n",
       "3       227426  2002             0       0    0         0     0            0   \n",
       "4       209655  2015             0       0    0         0     0            0   \n",
       "\n",
       "   acousticness  instrumentalness  liveness  valence  tempo  \n",
       "0             0                 0         0        0      0  \n",
       "1             0                 0         0        0      0  \n",
       "2             0                 0         0        0      0  \n",
       "3             0                 0         0        0      0  \n",
       "4             0                 0         0        0      0  "
      ]
     },
     "execution_count": 80,
     "metadata": {},
     "output_type": "execute_result"
    }
   ],
   "source": [
    "## Hapus karakter yang tidak perlu pada kolom artist dan name\n",
    "data['artist'] = data['artist'].map(lambda x: str(x)[2:-1])\n",
    "data['name'] = data['name'].map(lambda x: str(x)[2:-1])\n",
    "\n",
    "data.head()"
   ]
  },
  {
   "cell_type": "code",
   "execution_count": 81,
   "metadata": {},
   "outputs": [
    {
     "data": {
      "text/html": [
       "<div>\n",
       "<style scoped>\n",
       "    .dataframe tbody tr th:only-of-type {\n",
       "        vertical-align: middle;\n",
       "    }\n",
       "\n",
       "    .dataframe tbody tr th {\n",
       "        vertical-align: top;\n",
       "    }\n",
       "\n",
       "    .dataframe thead th {\n",
       "        text-align: right;\n",
       "    }\n",
       "</style>\n",
       "<table border=\"1\" class=\"dataframe\">\n",
       "  <thead>\n",
       "    <tr style=\"text-align: right;\">\n",
       "      <th></th>\n",
       "      <th>id</th>\n",
       "      <th>name</th>\n",
       "      <th>artist</th>\n",
       "      <th>popularity</th>\n",
       "      <th>duration_ms</th>\n",
       "      <th>year</th>\n",
       "      <th>danceability</th>\n",
       "      <th>energy</th>\n",
       "      <th>key</th>\n",
       "      <th>loudness</th>\n",
       "      <th>mode</th>\n",
       "      <th>speechiness</th>\n",
       "      <th>acousticness</th>\n",
       "      <th>instrumentalness</th>\n",
       "      <th>liveness</th>\n",
       "      <th>valence</th>\n",
       "      <th>tempo</th>\n",
       "    </tr>\n",
       "  </thead>\n",
       "  <tbody>\n",
       "    <tr>\n",
       "      <th>0</th>\n",
       "      <td>5R8J6WCnV1E2lDJgVoaA4P</td>\n",
       "      <td>Threats</td>\n",
       "      <td>Jean Grae</td>\n",
       "      <td>35</td>\n",
       "      <td>246293</td>\n",
       "      <td>2008</td>\n",
       "      <td>0</td>\n",
       "      <td>0</td>\n",
       "      <td>0</td>\n",
       "      <td>0</td>\n",
       "      <td>0</td>\n",
       "      <td>0</td>\n",
       "      <td>0</td>\n",
       "      <td>0</td>\n",
       "      <td>0</td>\n",
       "      <td>0</td>\n",
       "      <td>0</td>\n",
       "    </tr>\n",
       "    <tr>\n",
       "      <th>1</th>\n",
       "      <td>5ex7brQNeKhyh6wjQoMDr0</td>\n",
       "      <td>Queen's Philosophy</td>\n",
       "      <td>Sa-Roc</td>\n",
       "      <td>10</td>\n",
       "      <td>193750</td>\n",
       "      <td>2013</td>\n",
       "      <td>0</td>\n",
       "      <td>0</td>\n",
       "      <td>0</td>\n",
       "      <td>0</td>\n",
       "      <td>0</td>\n",
       "      <td>0</td>\n",
       "      <td>0</td>\n",
       "      <td>0</td>\n",
       "      <td>0</td>\n",
       "      <td>0</td>\n",
       "      <td>0</td>\n",
       "    </tr>\n",
       "    <tr>\n",
       "      <th>2</th>\n",
       "      <td>0t7k99JA9z0KaMw1BoEpk8</td>\n",
       "      <td>9th vs. Thought</td>\n",
       "      <td>Black Thought</td>\n",
       "      <td>0</td>\n",
       "      <td>167741</td>\n",
       "      <td>2018</td>\n",
       "      <td>0</td>\n",
       "      <td>0</td>\n",
       "      <td>0</td>\n",
       "      <td>0</td>\n",
       "      <td>0</td>\n",
       "      <td>0</td>\n",
       "      <td>0</td>\n",
       "      <td>0</td>\n",
       "      <td>0</td>\n",
       "      <td>0</td>\n",
       "      <td>0</td>\n",
       "    </tr>\n",
       "    <tr>\n",
       "      <th>3</th>\n",
       "      <td>1LM6EReMkAxuDXDF26ekl2</td>\n",
       "      <td>Get By</td>\n",
       "      <td>Talib Kweli</td>\n",
       "      <td>52</td>\n",
       "      <td>227426</td>\n",
       "      <td>2002</td>\n",
       "      <td>0</td>\n",
       "      <td>0</td>\n",
       "      <td>0</td>\n",
       "      <td>0</td>\n",
       "      <td>0</td>\n",
       "      <td>0</td>\n",
       "      <td>0</td>\n",
       "      <td>0</td>\n",
       "      <td>0</td>\n",
       "      <td>0</td>\n",
       "      <td>0</td>\n",
       "    </tr>\n",
       "    <tr>\n",
       "      <th>4</th>\n",
       "      <td>5DWbvNiVrH2u0Si9e21ZjW</td>\n",
       "      <td>We Comin</td>\n",
       "      <td>Sa-Roc</td>\n",
       "      <td>3</td>\n",
       "      <td>209655</td>\n",
       "      <td>2015</td>\n",
       "      <td>0</td>\n",
       "      <td>0</td>\n",
       "      <td>0</td>\n",
       "      <td>0</td>\n",
       "      <td>0</td>\n",
       "      <td>0</td>\n",
       "      <td>0</td>\n",
       "      <td>0</td>\n",
       "      <td>0</td>\n",
       "      <td>0</td>\n",
       "      <td>0</td>\n",
       "    </tr>\n",
       "  </tbody>\n",
       "</table>\n",
       "</div>"
      ],
      "text/plain": [
       "                       id                name         artist  popularity  \\\n",
       "0  5R8J6WCnV1E2lDJgVoaA4P             Threats      Jean Grae          35   \n",
       "1  5ex7brQNeKhyh6wjQoMDr0  Queen's Philosophy         Sa-Roc          10   \n",
       "2  0t7k99JA9z0KaMw1BoEpk8     9th vs. Thought  Black Thought           0   \n",
       "3  1LM6EReMkAxuDXDF26ekl2              Get By    Talib Kweli          52   \n",
       "4  5DWbvNiVrH2u0Si9e21ZjW            We Comin         Sa-Roc           3   \n",
       "\n",
       "   duration_ms  year  danceability  energy  key  loudness  mode  speechiness  \\\n",
       "0       246293  2008             0       0    0         0     0            0   \n",
       "1       193750  2013             0       0    0         0     0            0   \n",
       "2       167741  2018             0       0    0         0     0            0   \n",
       "3       227426  2002             0       0    0         0     0            0   \n",
       "4       209655  2015             0       0    0         0     0            0   \n",
       "\n",
       "   acousticness  instrumentalness  liveness  valence  tempo  \n",
       "0             0                 0         0        0      0  \n",
       "1             0                 0         0        0      0  \n",
       "2             0                 0         0        0      0  \n",
       "3             0                 0         0        0      0  \n",
       "4             0                 0         0        0      0  "
      ]
     },
     "execution_count": 81,
     "metadata": {},
     "output_type": "execute_result"
    }
   ],
   "source": [
    "##delete empty string in name column\n",
    "data = data[data['name'] != '']\n",
    "\n",
    "##reset index\n",
    "data = data.reset_index(drop=True)\n",
    "data.head()"
   ]
  },
  {
   "cell_type": "code",
   "execution_count": 82,
   "metadata": {},
   "outputs": [
    {
     "data": {
      "text/html": [
       "<div>\n",
       "<style scoped>\n",
       "    .dataframe tbody tr th:only-of-type {\n",
       "        vertical-align: middle;\n",
       "    }\n",
       "\n",
       "    .dataframe tbody tr th {\n",
       "        vertical-align: top;\n",
       "    }\n",
       "\n",
       "    .dataframe thead th {\n",
       "        text-align: right;\n",
       "    }\n",
       "</style>\n",
       "<table border=\"1\" class=\"dataframe\">\n",
       "  <thead>\n",
       "    <tr style=\"text-align: right;\">\n",
       "      <th></th>\n",
       "      <th>danceability</th>\n",
       "      <th>energy</th>\n",
       "      <th>loudness</th>\n",
       "      <th>speechiness</th>\n",
       "      <th>acousticness</th>\n",
       "      <th>instrumentalness</th>\n",
       "      <th>liveness</th>\n",
       "      <th>valence</th>\n",
       "      <th>tempo</th>\n",
       "    </tr>\n",
       "  </thead>\n",
       "  <tbody>\n",
       "    <tr>\n",
       "      <th>0</th>\n",
       "      <td>0</td>\n",
       "      <td>0</td>\n",
       "      <td>0</td>\n",
       "      <td>0</td>\n",
       "      <td>0</td>\n",
       "      <td>0</td>\n",
       "      <td>0</td>\n",
       "      <td>0</td>\n",
       "      <td>0</td>\n",
       "    </tr>\n",
       "    <tr>\n",
       "      <th>1</th>\n",
       "      <td>0</td>\n",
       "      <td>0</td>\n",
       "      <td>0</td>\n",
       "      <td>0</td>\n",
       "      <td>0</td>\n",
       "      <td>0</td>\n",
       "      <td>0</td>\n",
       "      <td>0</td>\n",
       "      <td>0</td>\n",
       "    </tr>\n",
       "    <tr>\n",
       "      <th>2</th>\n",
       "      <td>0</td>\n",
       "      <td>0</td>\n",
       "      <td>0</td>\n",
       "      <td>0</td>\n",
       "      <td>0</td>\n",
       "      <td>0</td>\n",
       "      <td>0</td>\n",
       "      <td>0</td>\n",
       "      <td>0</td>\n",
       "    </tr>\n",
       "    <tr>\n",
       "      <th>3</th>\n",
       "      <td>0</td>\n",
       "      <td>0</td>\n",
       "      <td>0</td>\n",
       "      <td>0</td>\n",
       "      <td>0</td>\n",
       "      <td>0</td>\n",
       "      <td>0</td>\n",
       "      <td>0</td>\n",
       "      <td>0</td>\n",
       "    </tr>\n",
       "    <tr>\n",
       "      <th>4</th>\n",
       "      <td>0</td>\n",
       "      <td>0</td>\n",
       "      <td>0</td>\n",
       "      <td>0</td>\n",
       "      <td>0</td>\n",
       "      <td>0</td>\n",
       "      <td>0</td>\n",
       "      <td>0</td>\n",
       "      <td>0</td>\n",
       "    </tr>\n",
       "  </tbody>\n",
       "</table>\n",
       "</div>"
      ],
      "text/plain": [
       "   danceability  energy  loudness  speechiness  acousticness  \\\n",
       "0             0       0         0            0             0   \n",
       "1             0       0         0            0             0   \n",
       "2             0       0         0            0             0   \n",
       "3             0       0         0            0             0   \n",
       "4             0       0         0            0             0   \n",
       "\n",
       "   instrumentalness  liveness  valence  tempo  \n",
       "0                 0         0        0      0  \n",
       "1                 0         0        0      0  \n",
       "2                 0         0        0      0  \n",
       "3                 0         0        0      0  \n",
       "4                 0         0        0      0  "
      ]
     },
     "execution_count": 82,
     "metadata": {},
     "output_type": "execute_result"
    }
   ],
   "source": [
    "## drop name artist and year column\n",
    "data2 = data.copy()\n",
    "data2 = data2.drop(['artist', 'name', 'year', 'popularity', 'key','duration_ms', 'mode', 'id'], axis=1)\n",
    "\n",
    "data2.head()"
   ]
  },
  {
   "cell_type": "code",
   "execution_count": 83,
   "metadata": {},
   "outputs": [
    {
     "data": {
      "text/html": [
       "<div>\n",
       "<style scoped>\n",
       "    .dataframe tbody tr th:only-of-type {\n",
       "        vertical-align: middle;\n",
       "    }\n",
       "\n",
       "    .dataframe tbody tr th {\n",
       "        vertical-align: top;\n",
       "    }\n",
       "\n",
       "    .dataframe thead th {\n",
       "        text-align: right;\n",
       "    }\n",
       "</style>\n",
       "<table border=\"1\" class=\"dataframe\">\n",
       "  <thead>\n",
       "    <tr style=\"text-align: right;\">\n",
       "      <th></th>\n",
       "      <th>acousticness</th>\n",
       "      <th>danceability</th>\n",
       "      <th>energy</th>\n",
       "      <th>instrumentalness</th>\n",
       "      <th>loudness</th>\n",
       "      <th>liveness</th>\n",
       "      <th>speechiness</th>\n",
       "      <th>tempo</th>\n",
       "      <th>valence</th>\n",
       "    </tr>\n",
       "  </thead>\n",
       "  <tbody>\n",
       "    <tr>\n",
       "      <th>count</th>\n",
       "      <td>100.0</td>\n",
       "      <td>100.0</td>\n",
       "      <td>100.0</td>\n",
       "      <td>100.0</td>\n",
       "      <td>100.0</td>\n",
       "      <td>100.0</td>\n",
       "      <td>100.0</td>\n",
       "      <td>100.0</td>\n",
       "      <td>100.0</td>\n",
       "    </tr>\n",
       "    <tr>\n",
       "      <th>mean</th>\n",
       "      <td>0.0</td>\n",
       "      <td>0.0</td>\n",
       "      <td>0.0</td>\n",
       "      <td>0.0</td>\n",
       "      <td>0.0</td>\n",
       "      <td>0.0</td>\n",
       "      <td>0.0</td>\n",
       "      <td>0.0</td>\n",
       "      <td>0.0</td>\n",
       "    </tr>\n",
       "    <tr>\n",
       "      <th>std</th>\n",
       "      <td>0.0</td>\n",
       "      <td>0.0</td>\n",
       "      <td>0.0</td>\n",
       "      <td>0.0</td>\n",
       "      <td>0.0</td>\n",
       "      <td>0.0</td>\n",
       "      <td>0.0</td>\n",
       "      <td>0.0</td>\n",
       "      <td>0.0</td>\n",
       "    </tr>\n",
       "    <tr>\n",
       "      <th>min</th>\n",
       "      <td>0.0</td>\n",
       "      <td>0.0</td>\n",
       "      <td>0.0</td>\n",
       "      <td>0.0</td>\n",
       "      <td>0.0</td>\n",
       "      <td>0.0</td>\n",
       "      <td>0.0</td>\n",
       "      <td>0.0</td>\n",
       "      <td>0.0</td>\n",
       "    </tr>\n",
       "    <tr>\n",
       "      <th>25%</th>\n",
       "      <td>0.0</td>\n",
       "      <td>0.0</td>\n",
       "      <td>0.0</td>\n",
       "      <td>0.0</td>\n",
       "      <td>0.0</td>\n",
       "      <td>0.0</td>\n",
       "      <td>0.0</td>\n",
       "      <td>0.0</td>\n",
       "      <td>0.0</td>\n",
       "    </tr>\n",
       "    <tr>\n",
       "      <th>50%</th>\n",
       "      <td>0.0</td>\n",
       "      <td>0.0</td>\n",
       "      <td>0.0</td>\n",
       "      <td>0.0</td>\n",
       "      <td>0.0</td>\n",
       "      <td>0.0</td>\n",
       "      <td>0.0</td>\n",
       "      <td>0.0</td>\n",
       "      <td>0.0</td>\n",
       "    </tr>\n",
       "    <tr>\n",
       "      <th>75%</th>\n",
       "      <td>0.0</td>\n",
       "      <td>0.0</td>\n",
       "      <td>0.0</td>\n",
       "      <td>0.0</td>\n",
       "      <td>0.0</td>\n",
       "      <td>0.0</td>\n",
       "      <td>0.0</td>\n",
       "      <td>0.0</td>\n",
       "      <td>0.0</td>\n",
       "    </tr>\n",
       "    <tr>\n",
       "      <th>max</th>\n",
       "      <td>0.0</td>\n",
       "      <td>0.0</td>\n",
       "      <td>0.0</td>\n",
       "      <td>0.0</td>\n",
       "      <td>0.0</td>\n",
       "      <td>0.0</td>\n",
       "      <td>0.0</td>\n",
       "      <td>0.0</td>\n",
       "      <td>0.0</td>\n",
       "    </tr>\n",
       "  </tbody>\n",
       "</table>\n",
       "</div>"
      ],
      "text/plain": [
       "       acousticness  danceability  energy  instrumentalness  loudness  \\\n",
       "count         100.0         100.0   100.0             100.0     100.0   \n",
       "mean            0.0           0.0     0.0               0.0       0.0   \n",
       "std             0.0           0.0     0.0               0.0       0.0   \n",
       "min             0.0           0.0     0.0               0.0       0.0   \n",
       "25%             0.0           0.0     0.0               0.0       0.0   \n",
       "50%             0.0           0.0     0.0               0.0       0.0   \n",
       "75%             0.0           0.0     0.0               0.0       0.0   \n",
       "max             0.0           0.0     0.0               0.0       0.0   \n",
       "\n",
       "       liveness  speechiness  tempo  valence  \n",
       "count     100.0        100.0  100.0    100.0  \n",
       "mean        0.0          0.0    0.0      0.0  \n",
       "std         0.0          0.0    0.0      0.0  \n",
       "min         0.0          0.0    0.0      0.0  \n",
       "25%         0.0          0.0    0.0      0.0  \n",
       "50%         0.0          0.0    0.0      0.0  \n",
       "75%         0.0          0.0    0.0      0.0  \n",
       "max         0.0          0.0    0.0      0.0  "
      ]
     },
     "execution_count": 83,
     "metadata": {},
     "output_type": "execute_result"
    }
   ],
   "source": [
    "from sklearn import preprocessing\n",
    "\n",
    "## normalize all data to 0 and 1\n",
    "x = data2.values ##returns a numpy array\n",
    "min_max_scaler = preprocessing.MinMaxScaler()\n",
    "x_scaled = min_max_scaler.fit_transform(x)\n",
    "data2 = pd.DataFrame(x_scaled)\n",
    "\n",
    "## convert to dataframe\n",
    "data2.columns = ['acousticness','danceability','energy','instrumentalness','loudness', 'liveness', 'speechiness', 'tempo','valence']\n",
    "\n",
    "## data2.head()\n",
    "data2.describe()"
   ]
  },
  {
   "cell_type": "code",
   "execution_count": 84,
   "metadata": {},
   "outputs": [
    {
     "name": "stderr",
     "output_type": "stream",
     "text": [
      "C:\\Users\\Aulia Diaz\\AppData\\Roaming\\Python\\Python312\\site-packages\\sklearn\\decomposition\\_pca.py:559: RuntimeWarning: invalid value encountered in divide\n",
      "  explained_variance_ratio_ = explained_variance_ / total_var\n"
     ]
    },
    {
     "data": {
      "application/vnd.plotly.v1+json": {
       "config": {
        "plotlyServerURL": "https://plot.ly"
       },
       "data": [
        {
         "hovertemplate": "x=%{x}<br>y=%{y}<extra></extra>",
         "legendgroup": "",
         "marker": {
          "color": "#000001",
          "symbol": "circle"
         },
         "mode": "markers",
         "name": "",
         "orientation": "v",
         "showlegend": false,
         "type": "scatter",
         "x": [
          0,
          0,
          0,
          0,
          0,
          0,
          0,
          0,
          0,
          0,
          0,
          0,
          0,
          0,
          0,
          0,
          0,
          0,
          0,
          0,
          0,
          0,
          0,
          0,
          0,
          0,
          0,
          0,
          0,
          0,
          0,
          0,
          0,
          0,
          0,
          0,
          0,
          0,
          0,
          0,
          0,
          0,
          0,
          0,
          0,
          0,
          0,
          0,
          0,
          0,
          0,
          0,
          0,
          0,
          0,
          0,
          0,
          0,
          0,
          0,
          0,
          0,
          0,
          0,
          0,
          0,
          0,
          0,
          0,
          0,
          0,
          0,
          0,
          0,
          0,
          0,
          0,
          0,
          0,
          0,
          0,
          0,
          0,
          0,
          0,
          0,
          0,
          0,
          0,
          0,
          0,
          0,
          0,
          0,
          0,
          0,
          0,
          0,
          0,
          0
         ],
         "xaxis": "x",
         "y": [
          0,
          0,
          0,
          0,
          0,
          0,
          0,
          0,
          0,
          0,
          0,
          0,
          0,
          0,
          0,
          0,
          0,
          0,
          0,
          0,
          0,
          0,
          0,
          0,
          0,
          0,
          0,
          0,
          0,
          0,
          0,
          0,
          0,
          0,
          0,
          0,
          0,
          0,
          0,
          0,
          0,
          0,
          0,
          0,
          0,
          0,
          0,
          0,
          0,
          0,
          0,
          0,
          0,
          0,
          0,
          0,
          0,
          0,
          0,
          0,
          0,
          0,
          0,
          0,
          0,
          0,
          0,
          0,
          0,
          0,
          0,
          0,
          0,
          0,
          0,
          0,
          0,
          0,
          0,
          0,
          0,
          0,
          0,
          0,
          0,
          0,
          0,
          0,
          0,
          0,
          0,
          0,
          0,
          0,
          0,
          0,
          0,
          0,
          0,
          0
         ],
         "yaxis": "y"
        }
       ],
       "layout": {
        "legend": {
         "tracegroupgap": 0
        },
        "template": {
         "data": {
          "candlestick": [
           {
            "decreasing": {
             "line": {
              "color": "#000033"
             }
            },
            "increasing": {
             "line": {
              "color": "#000032"
             }
            },
            "type": "candlestick"
           }
          ],
          "contour": [
           {
            "colorscale": [
             [
              0,
              "#000011"
             ],
             [
              0.1111111111111111,
              "#000012"
             ],
             [
              0.2222222222222222,
              "#000013"
             ],
             [
              0.3333333333333333,
              "#000014"
             ],
             [
              0.4444444444444444,
              "#000015"
             ],
             [
              0.5555555555555556,
              "#000016"
             ],
             [
              0.6666666666666666,
              "#000017"
             ],
             [
              0.7777777777777778,
              "#000018"
             ],
             [
              0.8888888888888888,
              "#000019"
             ],
             [
              1,
              "#000020"
             ]
            ],
            "type": "contour"
           }
          ],
          "contourcarpet": [
           {
            "colorscale": [
             [
              0,
              "#000011"
             ],
             [
              0.1111111111111111,
              "#000012"
             ],
             [
              0.2222222222222222,
              "#000013"
             ],
             [
              0.3333333333333333,
              "#000014"
             ],
             [
              0.4444444444444444,
              "#000015"
             ],
             [
              0.5555555555555556,
              "#000016"
             ],
             [
              0.6666666666666666,
              "#000017"
             ],
             [
              0.7777777777777778,
              "#000018"
             ],
             [
              0.8888888888888888,
              "#000019"
             ],
             [
              1,
              "#000020"
             ]
            ],
            "type": "contourcarpet"
           }
          ],
          "heatmap": [
           {
            "colorscale": [
             [
              0,
              "#000011"
             ],
             [
              0.1111111111111111,
              "#000012"
             ],
             [
              0.2222222222222222,
              "#000013"
             ],
             [
              0.3333333333333333,
              "#000014"
             ],
             [
              0.4444444444444444,
              "#000015"
             ],
             [
              0.5555555555555556,
              "#000016"
             ],
             [
              0.6666666666666666,
              "#000017"
             ],
             [
              0.7777777777777778,
              "#000018"
             ],
             [
              0.8888888888888888,
              "#000019"
             ],
             [
              1,
              "#000020"
             ]
            ],
            "type": "heatmap"
           }
          ],
          "histogram2d": [
           {
            "colorscale": [
             [
              0,
              "#000011"
             ],
             [
              0.1111111111111111,
              "#000012"
             ],
             [
              0.2222222222222222,
              "#000013"
             ],
             [
              0.3333333333333333,
              "#000014"
             ],
             [
              0.4444444444444444,
              "#000015"
             ],
             [
              0.5555555555555556,
              "#000016"
             ],
             [
              0.6666666666666666,
              "#000017"
             ],
             [
              0.7777777777777778,
              "#000018"
             ],
             [
              0.8888888888888888,
              "#000019"
             ],
             [
              1,
              "#000020"
             ]
            ],
            "type": "histogram2d"
           }
          ],
          "icicle": [
           {
            "textfont": {
             "color": "white"
            },
            "type": "icicle"
           }
          ],
          "sankey": [
           {
            "textfont": {
             "color": "#000036"
            },
            "type": "sankey"
           }
          ],
          "scatter": [
           {
            "marker": {
             "line": {
              "width": 0
             }
            },
            "type": "scatter"
           }
          ],
          "table": [
           {
            "cells": {
             "fill": {
              "color": "#000038"
             },
             "font": {
              "color": "#000037"
             },
             "line": {
              "color": "#000039"
             }
            },
            "header": {
             "fill": {
              "color": "#000040"
             },
             "font": {
              "color": "#000036"
             },
             "line": {
              "color": "#000039"
             }
            },
            "type": "table"
           }
          ],
          "waterfall": [
           {
            "connector": {
             "line": {
              "color": "#000036",
              "width": 2
             }
            },
            "decreasing": {
             "marker": {
              "color": "#000033"
             }
            },
            "increasing": {
             "marker": {
              "color": "#000032"
             }
            },
            "totals": {
             "marker": {
              "color": "#000034"
             }
            },
            "type": "waterfall"
           }
          ]
         },
         "layout": {
          "coloraxis": {
           "colorscale": [
            [
             0,
             "#000011"
            ],
            [
             0.1111111111111111,
             "#000012"
            ],
            [
             0.2222222222222222,
             "#000013"
            ],
            [
             0.3333333333333333,
             "#000014"
            ],
            [
             0.4444444444444444,
             "#000015"
            ],
            [
             0.5555555555555556,
             "#000016"
            ],
            [
             0.6666666666666666,
             "#000017"
            ],
            [
             0.7777777777777778,
             "#000018"
            ],
            [
             0.8888888888888888,
             "#000019"
            ],
            [
             1,
             "#000020"
            ]
           ]
          },
          "colorscale": {
           "diverging": [
            [
             0,
             "#000021"
            ],
            [
             0.1,
             "#000022"
            ],
            [
             0.2,
             "#000023"
            ],
            [
             0.3,
             "#000024"
            ],
            [
             0.4,
             "#000025"
            ],
            [
             0.5,
             "#000026"
            ],
            [
             0.6,
             "#000027"
            ],
            [
             0.7,
             "#000028"
            ],
            [
             0.8,
             "#000029"
            ],
            [
             0.9,
             "#000030"
            ],
            [
             1,
             "#000031"
            ]
           ],
           "sequential": [
            [
             0,
             "#000011"
            ],
            [
             0.1111111111111111,
             "#000012"
            ],
            [
             0.2222222222222222,
             "#000013"
            ],
            [
             0.3333333333333333,
             "#000014"
            ],
            [
             0.4444444444444444,
             "#000015"
            ],
            [
             0.5555555555555556,
             "#000016"
            ],
            [
             0.6666666666666666,
             "#000017"
            ],
            [
             0.7777777777777778,
             "#000018"
            ],
            [
             0.8888888888888888,
             "#000019"
            ],
            [
             1,
             "#000020"
            ]
           ],
           "sequentialminus": [
            [
             0,
             "#000011"
            ],
            [
             0.1111111111111111,
             "#000012"
            ],
            [
             0.2222222222222222,
             "#000013"
            ],
            [
             0.3333333333333333,
             "#000014"
            ],
            [
             0.4444444444444444,
             "#000015"
            ],
            [
             0.5555555555555556,
             "#000016"
            ],
            [
             0.6666666666666666,
             "#000017"
            ],
            [
             0.7777777777777778,
             "#000018"
            ],
            [
             0.8888888888888888,
             "#000019"
            ],
            [
             1,
             "#000020"
            ]
           ]
          },
          "colorway": [
           "#000001",
           "#000002",
           "#000003",
           "#000004",
           "#000005",
           "#000006",
           "#000007",
           "#000008",
           "#000009",
           "#000010"
          ]
         }
        },
        "title": {
         "text": "PCA"
        },
        "xaxis": {
         "anchor": "y",
         "domain": [
          0,
          1
         ],
         "title": {
          "text": "x"
         }
        },
        "yaxis": {
         "anchor": "x",
         "domain": [
          0,
          1
         ],
         "title": {
          "text": "y"
         }
        }
       }
      }
     },
     "metadata": {},
     "output_type": "display_data"
    }
   ],
   "source": [
    "## Lakukan PCA untuk mengurangi jumlah fitur menjadi 2 fitur saja\n",
    "pca = PCA(n_components=2)\n",
    "pca.fit(data2)\n",
    "pca_data = pca.transform(data2)\n",
    "\n",
    "## buat dataframe dari hasil pca\n",
    "pca_df = pd.DataFrame(data=pca_data, columns=['x', 'y'])\n",
    "pca_df.head()\n",
    "\n",
    "## plot pca_df using plotly\n",
    "fig = px.scatter(pca_df, x='x', y='y', title='PCA')\n",
    "fig.show()"
   ]
  },
  {
   "cell_type": "code",
   "execution_count": 85,
   "metadata": {},
   "outputs": [
    {
     "name": "stderr",
     "output_type": "stream",
     "text": [
      "C:\\Users\\Aulia Diaz\\AppData\\Roaming\\Python\\Python312\\site-packages\\sklearn\\base.py:1474: ConvergenceWarning:\n",
      "\n",
      "Number of distinct clusters (1) found smaller than n_clusters (8). Possibly due to duplicate points in X.\n",
      "\n"
     ]
    },
    {
     "data": {
      "application/vnd.plotly.v1+json": {
       "config": {
        "plotlyServerURL": "https://plot.ly"
       },
       "data": [
        {
         "customdata": [
          [
           "Jean Grae",
           "Threats"
          ],
          [
           "Sa-Roc",
           "Queen's Philosophy"
          ],
          [
           "Black Thought",
           "9th vs. Thought"
          ],
          [
           "Talib Kweli",
           "Get By"
          ],
          [
           "Sa-Roc",
           "We Comin"
          ],
          [
           "Gift Of Gab",
           "Freedom Form Flowing"
          ],
          [
           "Sa-Roc",
           "Hood Supreme"
          ],
          [
           "Sa-Roc",
           "Maximum Frequency"
          ],
          [
           "Talib Kweli",
           "Never Been In Love"
          ],
          [
           "Sa-Roc",
           "Eye of the Phoenix"
          ],
          [
           "Talib Kweli",
           "Ms. Hill"
          ],
          [
           "Sa-Roc",
           "End of the World"
          ],
          [
           "Sa-Roc",
           "NSFW (Not Safe For Weak Rappers)"
          ],
          [
           "Sa-Roc",
           "Legendary"
          ],
          [
           "Sa-Roc",
           "The Moors of Alhambra"
          ],
          [
           "Sa-Roc",
           "Lilith's Psalm"
          ],
          [
           "Sa-Roc",
           "MetaMorpheus"
          ],
          [
           "Sa-Roc",
           "WWII (Word War II)"
          ],
          [
           "MC Breed",
           "Gotta Get Mine"
          ],
          [
           "Vinnie Paz",
           "Battle Hymn"
          ],
          [
           "Apathy",
           "Pay Your Dues"
          ],
          [
           "Dilated Peoples",
           "Kindness For Weakness"
          ],
          [
           "Afu-Ra",
           "Equality"
          ],
          [
           "CunninLynguists",
           "Nothing but Strangeness (feat. Looptroop Rockers & Hilltop Hoods)"
          ],
          [
           "Dag Savage",
           "When It Rains (feat. Aloe Blacc)"
          ],
          [
           "Citizen Cope",
           "Let The Drummer Kick"
          ],
          [
           "Evidence",
           "Late For The Sky feat. Slug & Aesop Rock"
          ],
          [
           "Geto Boys",
           "Mind Playing Tricks on Me"
          ],
          [
           "Sweatshop Union",
           "Oh My"
          ],
          [
           "R.A. The Rugged Man",
           "Definition of a Rap Flow (Albee 3000)"
          ],
          [
           "Jedi Mind Tricks",
           "Suicide"
          ],
          [
           "Immortal Technique",
           "Point of No Return"
          ],
          [
           "CunninLynguists",
           "Guide You Through Shadows (feat. Ra Scion & Substantial)"
          ],
          [
           "Jedi Mind Tricks",
           "Fraudulent Cloth"
          ],
          [
           "PaceWon & Mr. Green",
           "Children Sing"
          ],
          [
           "CunninLynguists",
           "Enemies With Benefits F. Tonedeff"
          ],
          [
           "Immortal Technique",
           "Freedom of Speech"
          ],
          [
           "CunninLynguists",
           "Beyond the Sun (feat. J Live)"
          ],
          [
           "Atmosphere",
           "Pour Me Another"
          ],
          [
           "Jedi Mind Tricks",
           "Razorblade Salvation"
          ],
          [
           "CunninLynguists",
           "Love Ain't (f. Tonedeff) [Deluxe Edition]"
          ],
          [
           "Jedi Mind Tricks",
           "Uncommon Valor: A Vietnam Story"
          ],
          [
           "Sol",
           "2020"
          ],
          [
           "Marcus D",
           "Melancholy Hopeful"
          ],
          [
           "CunninLynguists",
           "Stars Shine Brightest (In The Darkest Of Night) F. Rick Warren"
          ],
          [
           "Gorillaz",
           "El Ma\\xc3\\xb1ana"
          ],
          [
           "The Strokes",
           "Reptilia"
          ],
          [
           "Gorillaz",
           "Dirty Harry"
          ],
          [
           "Uyama Hiroto",
           "Soul Of Freedom feat. Cise Starr"
          ],
          [
           "Awon",
           "Take Time"
          ],
          [
           "SoulChef",
           "When I Close My Eyes (feat. Tunji)"
          ],
          [
           "SoulChef",
           "Say Somethin' (feat. Nieve, Noah King, Adub & Tunji)"
          ],
          [
           "Common Market",
           "Swell"
          ],
          [
           "Idealism",
           "nagashi"
          ],
          [
           "Birocratic",
           "Boys' bop"
          ],
          [
           "DANGERDOOM",
           "Benzi Box (feat. CeeLo Green)"
          ],
          [
           "The Grouch & Eligh",
           "Comin' Up (feat. Mistah F.A.B.)"
          ],
          [
           "The White Stripes",
           "Seven Nation Army"
          ],
          [
           "Gorillaz",
           "Some Kind of Nature (feat. Lou Reed)"
          ],
          [
           "Gorillaz",
           "Clint Eastwood"
          ],
          [
           "MGMT",
           "Time to Pretend"
          ],
          [
           "STRFKR",
           "Rawnald Gregory Erickson the Second"
          ],
          [
           "MF DOOM",
           "Rapp Snitch Knishes feat. Mr. Fantastik"
          ],
          [
           "Gorillaz",
           "November Has Come"
          ],
          [
           "CunninLynguists",
           "Beautiful Girl"
          ],
          [
           "Emancipator",
           "Black Lake"
          ],
          [
           "The Grouch",
           "THE POSSE"
          ],
          [
           "People Under The Stairs",
           "Anotha (BBQ)"
          ],
          [
           "Lyrics Born",
           "Before and After"
          ],
          [
           "Collective Efforts",
           "So Cold"
          ],
          [
           "People Under The Stairs",
           "Pictures On My Wall"
          ],
          [
           "Brother Ali",
           "The Travelers"
          ],
          [
           "Blue Scholars",
           "Motion Movement"
          ],
          [
           "Zion I",
           "Antenna"
          ],
          [
           "Earth, Wind & Fire",
           "Let's Groove"
          ],
          [
           "Marvin Gaye",
           "Ain't No Mountain High Enough"
          ],
          [
           "Bill Withers",
           "Ain't No Sunshine"
          ],
          [
           "The Temptations",
           "Ain't Too Proud To Beg"
          ],
          [
           "Sweatshop Union",
           "Close to Home"
          ],
          [
           "Deltron 3030",
           "Mastermind"
          ],
          [
           "The Dynospectrum",
           "Anything Is Everything"
          ],
          [
           "Kenichiro Nishihara",
           "believe feat. Cise Starr"
          ],
          [
           "Grieves",
           "Sunny Side Of Hell"
          ],
          [
           "Murs",
           "Everything"
          ],
          [
           "Grieves",
           "On The Rocks"
          ],
          [
           "Common Market",
           "Slow Cure"
          ],
          [
           "Collective Efforts",
           "This Far"
          ],
          [
           "Brother Ali",
           "Walking Away"
          ],
          [
           "Atmosphere",
           "The Best Day"
          ],
          [
           "Blue Scholars",
           "Southside Revival"
          ],
          [
           "Sweatshop Union",
           "The Humans' race"
          ],
          [
           "CunninLynguists",
           "Mic Like a Memory [Deluxe Edition] (feat. Kory Calico)"
          ],
          [
           "Emancipator",
           "Soon It Will Be Cold Enough to Build Fires"
          ],
          [
           "Gift Of Gab",
           "Way of the Light"
          ],
          [
           "CunninLynguists",
           "In the City (feat. Zumbi of Zion I)"
          ],
          [
           "Classified",
           "Fall From Paradise"
          ],
          [
           "Living Legends",
           "Purple Kush (feat. Sunspot Jonz)"
          ],
          [
           "Blue Scholars",
           "50 Thousand Deep"
          ],
          [
           "Common Market",
           "Trinity"
          ],
          [
           "Living Legends",
           "Moving at the Speed of Life (feat. Aesop & Slug)"
          ]
         ],
         "hovertemplate": "x=%{x}<br>y=%{y}<br>hover_data_0=%{customdata[0]}<br>hover_data_1=%{customdata[1]}<br>color=%{marker.color}<extra></extra>",
         "legendgroup": "",
         "marker": {
          "color": [
           0,
           0,
           0,
           0,
           0,
           0,
           0,
           0,
           0,
           0,
           0,
           0,
           0,
           0,
           0,
           0,
           0,
           0,
           0,
           0,
           0,
           0,
           0,
           0,
           0,
           0,
           0,
           0,
           0,
           0,
           0,
           0,
           0,
           0,
           0,
           0,
           0,
           0,
           0,
           0,
           0,
           0,
           0,
           0,
           0,
           0,
           0,
           0,
           0,
           0,
           0,
           0,
           0,
           0,
           0,
           0,
           0,
           0,
           0,
           0,
           0,
           0,
           0,
           0,
           0,
           0,
           0,
           0,
           0,
           0,
           0,
           0,
           0,
           0,
           0,
           0,
           0,
           0,
           0,
           0,
           0,
           0,
           0,
           0,
           0,
           0,
           0,
           0,
           0,
           0,
           0,
           0,
           0,
           0,
           0,
           0,
           0,
           0,
           0,
           0
          ],
          "coloraxis": "coloraxis",
          "symbol": "circle"
         },
         "mode": "markers",
         "name": "",
         "orientation": "v",
         "showlegend": false,
         "type": "scatter",
         "x": [
          0,
          0,
          0,
          0,
          0,
          0,
          0,
          0,
          0,
          0,
          0,
          0,
          0,
          0,
          0,
          0,
          0,
          0,
          0,
          0,
          0,
          0,
          0,
          0,
          0,
          0,
          0,
          0,
          0,
          0,
          0,
          0,
          0,
          0,
          0,
          0,
          0,
          0,
          0,
          0,
          0,
          0,
          0,
          0,
          0,
          0,
          0,
          0,
          0,
          0,
          0,
          0,
          0,
          0,
          0,
          0,
          0,
          0,
          0,
          0,
          0,
          0,
          0,
          0,
          0,
          0,
          0,
          0,
          0,
          0,
          0,
          0,
          0,
          0,
          0,
          0,
          0,
          0,
          0,
          0,
          0,
          0,
          0,
          0,
          0,
          0,
          0,
          0,
          0,
          0,
          0,
          0,
          0,
          0,
          0,
          0,
          0,
          0,
          0,
          0
         ],
         "xaxis": "x",
         "y": [
          0,
          0,
          0,
          0,
          0,
          0,
          0,
          0,
          0,
          0,
          0,
          0,
          0,
          0,
          0,
          0,
          0,
          0,
          0,
          0,
          0,
          0,
          0,
          0,
          0,
          0,
          0,
          0,
          0,
          0,
          0,
          0,
          0,
          0,
          0,
          0,
          0,
          0,
          0,
          0,
          0,
          0,
          0,
          0,
          0,
          0,
          0,
          0,
          0,
          0,
          0,
          0,
          0,
          0,
          0,
          0,
          0,
          0,
          0,
          0,
          0,
          0,
          0,
          0,
          0,
          0,
          0,
          0,
          0,
          0,
          0,
          0,
          0,
          0,
          0,
          0,
          0,
          0,
          0,
          0,
          0,
          0,
          0,
          0,
          0,
          0,
          0,
          0,
          0,
          0,
          0,
          0,
          0,
          0,
          0,
          0,
          0,
          0,
          0,
          0
         ],
         "yaxis": "y"
        }
       ],
       "layout": {
        "coloraxis": {
         "colorbar": {
          "title": {
           "text": "color"
          }
         },
         "colorscale": [
          [
           0,
           "rgb(150,0,90)"
          ],
          [
           0.125,
           "rgb(0,0,200)"
          ],
          [
           0.25,
           "rgb(0,25,255)"
          ],
          [
           0.375,
           "rgb(0,152,255)"
          ],
          [
           0.5,
           "rgb(44,255,150)"
          ],
          [
           0.625,
           "rgb(151,255,0)"
          ],
          [
           0.75,
           "rgb(255,234,0)"
          ],
          [
           0.875,
           "rgb(255,111,0)"
          ],
          [
           1,
           "rgb(255,0,0)"
          ]
         ]
        },
        "legend": {
         "tracegroupgap": 0
        },
        "margin": {
         "t": 60
        },
        "template": {
         "data": {
          "candlestick": [
           {
            "decreasing": {
             "line": {
              "color": "#000033"
             }
            },
            "increasing": {
             "line": {
              "color": "#000032"
             }
            },
            "type": "candlestick"
           }
          ],
          "contour": [
           {
            "colorscale": [
             [
              0,
              "#000011"
             ],
             [
              0.1111111111111111,
              "#000012"
             ],
             [
              0.2222222222222222,
              "#000013"
             ],
             [
              0.3333333333333333,
              "#000014"
             ],
             [
              0.4444444444444444,
              "#000015"
             ],
             [
              0.5555555555555556,
              "#000016"
             ],
             [
              0.6666666666666666,
              "#000017"
             ],
             [
              0.7777777777777778,
              "#000018"
             ],
             [
              0.8888888888888888,
              "#000019"
             ],
             [
              1,
              "#000020"
             ]
            ],
            "type": "contour"
           }
          ],
          "contourcarpet": [
           {
            "colorscale": [
             [
              0,
              "#000011"
             ],
             [
              0.1111111111111111,
              "#000012"
             ],
             [
              0.2222222222222222,
              "#000013"
             ],
             [
              0.3333333333333333,
              "#000014"
             ],
             [
              0.4444444444444444,
              "#000015"
             ],
             [
              0.5555555555555556,
              "#000016"
             ],
             [
              0.6666666666666666,
              "#000017"
             ],
             [
              0.7777777777777778,
              "#000018"
             ],
             [
              0.8888888888888888,
              "#000019"
             ],
             [
              1,
              "#000020"
             ]
            ],
            "type": "contourcarpet"
           }
          ],
          "heatmap": [
           {
            "colorscale": [
             [
              0,
              "#000011"
             ],
             [
              0.1111111111111111,
              "#000012"
             ],
             [
              0.2222222222222222,
              "#000013"
             ],
             [
              0.3333333333333333,
              "#000014"
             ],
             [
              0.4444444444444444,
              "#000015"
             ],
             [
              0.5555555555555556,
              "#000016"
             ],
             [
              0.6666666666666666,
              "#000017"
             ],
             [
              0.7777777777777778,
              "#000018"
             ],
             [
              0.8888888888888888,
              "#000019"
             ],
             [
              1,
              "#000020"
             ]
            ],
            "type": "heatmap"
           }
          ],
          "histogram2d": [
           {
            "colorscale": [
             [
              0,
              "#000011"
             ],
             [
              0.1111111111111111,
              "#000012"
             ],
             [
              0.2222222222222222,
              "#000013"
             ],
             [
              0.3333333333333333,
              "#000014"
             ],
             [
              0.4444444444444444,
              "#000015"
             ],
             [
              0.5555555555555556,
              "#000016"
             ],
             [
              0.6666666666666666,
              "#000017"
             ],
             [
              0.7777777777777778,
              "#000018"
             ],
             [
              0.8888888888888888,
              "#000019"
             ],
             [
              1,
              "#000020"
             ]
            ],
            "type": "histogram2d"
           }
          ],
          "icicle": [
           {
            "textfont": {
             "color": "white"
            },
            "type": "icicle"
           }
          ],
          "sankey": [
           {
            "textfont": {
             "color": "#000036"
            },
            "type": "sankey"
           }
          ],
          "scatter": [
           {
            "marker": {
             "line": {
              "width": 0
             }
            },
            "type": "scatter"
           }
          ],
          "table": [
           {
            "cells": {
             "fill": {
              "color": "#000038"
             },
             "font": {
              "color": "#000037"
             },
             "line": {
              "color": "#000039"
             }
            },
            "header": {
             "fill": {
              "color": "#000040"
             },
             "font": {
              "color": "#000036"
             },
             "line": {
              "color": "#000039"
             }
            },
            "type": "table"
           }
          ],
          "waterfall": [
           {
            "connector": {
             "line": {
              "color": "#000036",
              "width": 2
             }
            },
            "decreasing": {
             "marker": {
              "color": "#000033"
             }
            },
            "increasing": {
             "marker": {
              "color": "#000032"
             }
            },
            "totals": {
             "marker": {
              "color": "#000034"
             }
            },
            "type": "waterfall"
           }
          ]
         },
         "layout": {
          "coloraxis": {
           "colorscale": [
            [
             0,
             "#000011"
            ],
            [
             0.1111111111111111,
             "#000012"
            ],
            [
             0.2222222222222222,
             "#000013"
            ],
            [
             0.3333333333333333,
             "#000014"
            ],
            [
             0.4444444444444444,
             "#000015"
            ],
            [
             0.5555555555555556,
             "#000016"
            ],
            [
             0.6666666666666666,
             "#000017"
            ],
            [
             0.7777777777777778,
             "#000018"
            ],
            [
             0.8888888888888888,
             "#000019"
            ],
            [
             1,
             "#000020"
            ]
           ]
          },
          "colorscale": {
           "diverging": [
            [
             0,
             "#000021"
            ],
            [
             0.1,
             "#000022"
            ],
            [
             0.2,
             "#000023"
            ],
            [
             0.3,
             "#000024"
            ],
            [
             0.4,
             "#000025"
            ],
            [
             0.5,
             "#000026"
            ],
            [
             0.6,
             "#000027"
            ],
            [
             0.7,
             "#000028"
            ],
            [
             0.8,
             "#000029"
            ],
            [
             0.9,
             "#000030"
            ],
            [
             1,
             "#000031"
            ]
           ],
           "sequential": [
            [
             0,
             "#000011"
            ],
            [
             0.1111111111111111,
             "#000012"
            ],
            [
             0.2222222222222222,
             "#000013"
            ],
            [
             0.3333333333333333,
             "#000014"
            ],
            [
             0.4444444444444444,
             "#000015"
            ],
            [
             0.5555555555555556,
             "#000016"
            ],
            [
             0.6666666666666666,
             "#000017"
            ],
            [
             0.7777777777777778,
             "#000018"
            ],
            [
             0.8888888888888888,
             "#000019"
            ],
            [
             1,
             "#000020"
            ]
           ],
           "sequentialminus": [
            [
             0,
             "#000011"
            ],
            [
             0.1111111111111111,
             "#000012"
            ],
            [
             0.2222222222222222,
             "#000013"
            ],
            [
             0.3333333333333333,
             "#000014"
            ],
            [
             0.4444444444444444,
             "#000015"
            ],
            [
             0.5555555555555556,
             "#000016"
            ],
            [
             0.6666666666666666,
             "#000017"
            ],
            [
             0.7777777777777778,
             "#000018"
            ],
            [
             0.8888888888888888,
             "#000019"
            ],
            [
             1,
             "#000020"
            ]
           ]
          },
          "colorway": [
           "#000001",
           "#000002",
           "#000003",
           "#000004",
           "#000005",
           "#000006",
           "#000007",
           "#000008",
           "#000009",
           "#000010"
          ]
         }
        },
        "xaxis": {
         "anchor": "y",
         "domain": [
          0,
          1
         ],
         "title": {
          "text": "x"
         }
        },
        "yaxis": {
         "anchor": "x",
         "domain": [
          0,
          1
         ],
         "title": {
          "text": "y"
         }
        }
       }
      }
     },
     "metadata": {},
     "output_type": "display_data"
    }
   ],
   "source": [
    "## rubah bentuk data ke list \n",
    "data2 = list(zip(pca_df['x'], pca_df['y']))\n",
    "\n",
    "## fit kmeans model\n",
    "kmeans = KMeans(n_init=10, max_iter=1000).fit(data2)\n",
    "\n",
    "## make scatter plot using plotly\n",
    "fig = px.scatter(pca_df, x='x', y='y', color=kmeans.labels_, color_continuous_scale='rainbow', hover_data=[data.artist, data.name])\n",
    "fig.show()"
   ]
  }
 ],
 "metadata": {
  "kernelspec": {
   "display_name": "base",
   "language": "python",
   "name": "python3"
  },
  "language_info": {
   "codemirror_mode": {
    "name": "ipython",
    "version": 3
   },
   "file_extension": ".py",
   "mimetype": "text/x-python",
   "name": "python",
   "nbconvert_exporter": "python",
   "pygments_lexer": "ipython3",
   "version": "3.12.4"
  }
 },
 "nbformat": 4,
 "nbformat_minor": 2
}
